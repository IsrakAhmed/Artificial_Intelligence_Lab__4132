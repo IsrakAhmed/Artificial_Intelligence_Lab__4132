{
 "cells": [
  {
   "cell_type": "markdown",
   "id": "36b67dbd",
   "metadata": {},
   "source": [
    "# Implementing Heuristic Search to solve 8-puzzle problem"
   ]
  },
  {
   "cell_type": "code",
   "execution_count": 1,
   "id": "bf306aeb",
   "metadata": {},
   "outputs": [],
   "source": [
    "import heapq\n",
    "import copy"
   ]
  },
  {
   "cell_type": "markdown",
   "id": "a4616e35",
   "metadata": {},
   "source": [
    "### Create node class"
   ]
  },
  {
   "cell_type": "code",
   "execution_count": 2,
   "id": "d1b1adfa",
   "metadata": {},
   "outputs": [],
   "source": [
    "class PuzzleNode:\n",
    "  \n",
    "  def __init__(self, state, parent=None, move=None, g=0, h=0):\n",
    "      self.state = state\n",
    "      self.parent = parent\n",
    "      self.move = move\n",
    "      self.g = g\n",
    "      self.h = h\n",
    "      self.f = g + h\n",
    "\n",
    "  def __lt__(self, other):\n",
    "      return self.h < other.h"
   ]
  },
  {
   "cell_type": "markdown",
   "id": "5872b89c",
   "metadata": {},
   "source": [
    "### Display functions"
   ]
  },
  {
   "cell_type": "code",
   "execution_count": 3,
   "id": "5f5a18a6",
   "metadata": {},
   "outputs": [],
   "source": [
    "def print_state(node):\n",
    "    state = node.state\n",
    "    g_str = f\"g={node.g}\"\n",
    "    h_str = f\"h={node.h}\"\n",
    "    f_str = f\"f={node.f}\"\n",
    "    value_lines = [g_str, h_str, f_str]\n",
    "    for i, row in enumerate(state):\n",
    "        row_str = \" \".join(str(num) if num != 0 else \" \" for num in row)\n",
    "        value_display = value_lines[i] if i < len(value_lines) else \"\"\n",
    "        print(f\"{row_str}   {value_display}\")\n",
    "    print(\"-\" * 15)\n",
    "\n",
    "\n",
    "def print_states_with_values(nodes):\n",
    "    states = [node.state for node in nodes]\n",
    "    moves = [node.move if node.move else \"Start\" for node in nodes]\n",
    "    g_values = [f\"g={node.g}\" for node in nodes]\n",
    "    h_values = [f\"h={node.h}\" for node in nodes]\n",
    "    f_values = [f\"f={node.f}\" for node in nodes]\n",
    "    print(\"  \".join(f\"{move:^6}\" for move in moves))\n",
    "    for row in range(3):\n",
    "        print(\"   \".join(\" \".join(str(num) if num != 0 else \" \"\n",
    "                                  \n",
    "for num in state[row]) for state in states))\n",
    "    print(\"     \".join(g_values))\n",
    "    print(\"     \".join(h_values))\n",
    "    print(\"     \".join(f_values))\n",
    "    print(\"-\" * (len(states) * 22))"
   ]
  },
  {
   "cell_type": "markdown",
   "id": "1017c00f",
   "metadata": {},
   "source": [
    "### Path reconstruction"
   ]
  },
  {
   "cell_type": "code",
   "execution_count": 4,
   "id": "c1c18cde",
   "metadata": {},
   "outputs": [],
   "source": [
    "def reconstruct_path(node):\n",
    "    path = []\n",
    "    \n",
    "    while node.parent:\n",
    "        path.append(node.move)\n",
    "        node = node.parent # backtrack to the parent node\n",
    "    \n",
    "    return path[::-1]"
   ]
  },
  {
   "cell_type": "markdown",
   "id": "bcab5e38",
   "metadata": {},
   "source": [
    "### Heuristic funtion"
   ]
  },
  {
   "cell_type": "code",
   "execution_count": 5,
   "id": "19b2a9b2",
   "metadata": {},
   "outputs": [],
   "source": [
    "def heuristic_function(state, goal):\n",
    "    h = 0\n",
    "    for i in range(3):\n",
    "        for j in range(3):\n",
    "            if (goal[i][j] == '*'):\n",
    "                continue\n",
    "            \n",
    "            # check if the cell doesn't match with the goal\n",
    "            if state[i][j] != goal[i][j]:\n",
    "                h += 1\n",
    "    return h"
   ]
  },
  {
   "cell_type": "markdown",
   "id": "15b14e0c",
   "metadata": {},
   "source": [
    "###  Make hashvalue for a node to insert into visited set"
   ]
  },
  {
   "cell_type": "code",
   "execution_count": 6,
   "id": "1765dc60",
   "metadata": {},
   "outputs": [],
   "source": [
    "def flatten(state):\n",
    "    return tuple(sum(state, []))"
   ]
  },
  {
   "cell_type": "markdown",
   "id": "e5609973",
   "metadata": {},
   "source": [
    "###  Generate neighbors"
   ]
  },
  {
   "cell_type": "code",
   "execution_count": 7,
   "id": "53a6d56f",
   "metadata": {},
   "outputs": [],
   "source": [
    "def get_neighbors(state, visited):\n",
    "    neighbors = []\n",
    "    moves = {'U': (-1, 0), 'D': (1, 0), 'L': (0, -1), 'R': (0, 1)}\n",
    "    zero_x = -1\n",
    "    zero_y = -1\n",
    "    # finding empty cell\n",
    "    for i in range(3):\n",
    "        for j in range(3):\n",
    "            if state[i][j] == '*':\n",
    "                zero_x, zero_y = i, j\n",
    "                break\n",
    "    #iterate in four direction of empty cell\n",
    "    for move, (dx, dy) in moves.items():\n",
    "        new_x, new_y = zero_x + dx, zero_y + dy\n",
    "        if 0 <= new_x < 3 and 0 <= new_y < 3:\n",
    "            new_state = copy.deepcopy(state)\n",
    "            new_state[zero_x][zero_y], new_state[new_x][new_y] = new_state[new_x][new_y], new_state[zero_x][zero_y]\n",
    "            \n",
    "            # check if the state is already visited or not\n",
    "            if flatten(new_state) in visited:\n",
    "                continue\n",
    "            neighbors.append((new_state, move))\n",
    "    return neighbors"
   ]
  },
  {
   "cell_type": "markdown",
   "id": "7b476678",
   "metadata": {},
   "source": [
    "###  Heuristic search"
   ]
  },
  {
   "cell_type": "code",
   "execution_count": 8,
   "id": "ff8d0282",
   "metadata": {},
   "outputs": [],
   "source": [
    "def heuristic_search(start, goal):\n",
    "    pq = [] # priority queue to give priority to lowest heuristic value state\n",
    "    heapq.heappush(pq, PuzzleNode(start, None, None, 0, heuristic_function(start, goal)))\n",
    "    visited = set() # a set of already visited states\n",
    "    \n",
    "    while pq:\n",
    "        current_node = heapq.heappop(pq)\n",
    "        print(\"Current State:\")\n",
    "        print_state(current_node)\n",
    "\n",
    "        if current_node.state == goal: # checking if the current state is the goal state or not\n",
    "            return reconstruct_path(current_node)\n",
    "        visited.add(flatten(current_node.state)) # mark current state as a visited state\n",
    "\n",
    "        #generate neighbors\n",
    "        neighbors = get_neighbors(current_node.state, visited)\n",
    "        neighbor_nodes = []\n",
    "\n",
    "        for neighbor, move in neighbors:\n",
    "            g = current_node.g + 1\n",
    "            h = heuristic_function(neighbor, goal)\n",
    "            heapq.heappush(pq, PuzzleNode(neighbor, current_node, move, g, h))\n",
    "            neighbor_nodes.append(PuzzleNode(neighbor, current_node, move, g, h))\n",
    "\n",
    "        # print neighbors\n",
    "        if neighbor_nodes:\n",
    "            print(\"Generated Neighbors:\")\n",
    "            print_states_with_values(neighbor_nodes)\n",
    "            print('\\n')\n",
    "    return None"
   ]
  },
  {
   "cell_type": "markdown",
   "id": "dbbbb0dc",
   "metadata": {},
   "source": [
    "###  Make start and goal"
   ]
  },
  {
   "cell_type": "code",
   "execution_count": 9,
   "id": "e2f68498",
   "metadata": {},
   "outputs": [
    {
     "name": "stdout",
     "output_type": "stream",
     "text": [
      "Current State:\n",
      "2 8 3   g=0\n",
      "1 6 4   h=4\n",
      "7 * 5   f=4\n",
      "---------------\n",
      "Generated Neighbors:\n",
      "  U       L       R   \n",
      "2 8 3   2 8 3   2 8 3\n",
      "1 * 4   1 6 4   1 6 4\n",
      "7 6 5   * 7 5   7 5 *\n",
      "g=1     g=1     g=1\n",
      "h=3     h=5     h=5\n",
      "f=4     f=6     f=6\n",
      "------------------------------------------------------------------\n",
      "\n",
      "\n",
      "Current State:\n",
      "2 8 3   g=1\n",
      "1 * 4   h=3\n",
      "7 6 5   f=4\n",
      "---------------\n",
      "Generated Neighbors:\n",
      "  U       L       R   \n",
      "2 * 3   2 8 3   2 8 3\n",
      "1 8 4   * 1 4   1 4 *\n",
      "7 6 5   7 6 5   7 6 5\n",
      "g=2     g=2     g=2\n",
      "h=3     h=3     h=4\n",
      "f=5     f=5     f=6\n",
      "------------------------------------------------------------------\n",
      "\n",
      "\n",
      "Current State:\n",
      "2 * 3   g=2\n",
      "1 8 4   h=3\n",
      "7 6 5   f=5\n",
      "---------------\n",
      "Generated Neighbors:\n",
      "  L       R   \n",
      "* 2 3   2 3 *\n",
      "1 8 4   1 8 4\n",
      "7 6 5   7 6 5\n",
      "g=3     g=3\n",
      "h=2     h=4\n",
      "f=5     f=7\n",
      "--------------------------------------------\n",
      "\n",
      "\n",
      "Current State:\n",
      "* 2 3   g=3\n",
      "1 8 4   h=2\n",
      "7 6 5   f=5\n",
      "---------------\n",
      "Generated Neighbors:\n",
      "  D   \n",
      "1 2 3\n",
      "* 8 4\n",
      "7 6 5\n",
      "g=4\n",
      "h=1\n",
      "f=5\n",
      "----------------------\n",
      "\n",
      "\n",
      "Current State:\n",
      "1 2 3   g=4\n",
      "* 8 4   h=1\n",
      "7 6 5   f=5\n",
      "---------------\n",
      "Generated Neighbors:\n",
      "  D       R   \n",
      "1 2 3   1 2 3\n",
      "7 8 4   8 * 4\n",
      "* 6 5   7 6 5\n",
      "g=5     g=5\n",
      "h=2     h=0\n",
      "f=7     f=5\n",
      "--------------------------------------------\n",
      "\n",
      "\n",
      "Current State:\n",
      "1 2 3   g=5\n",
      "8 * 4   h=0\n",
      "7 6 5   f=5\n",
      "---------------\n",
      "Solution found: ['U', 'U', 'L', 'D', 'R']\n"
     ]
    }
   ],
   "source": [
    "start_state = [['2', '8', '3'], ['1', '6', '4'], ['7', '*', '5']]  # initial state\n",
    "goal_state = [['1', '2', '3'], ['8', '*', '4'], ['7', '6', '5']]   # Goal state\n",
    "\n",
    "solution = heuristic_search(start_state, goal_state)\n",
    "\n",
    "if solution:\n",
    "    print(\"Solution found:\", solution)\n",
    "else:\n",
    "    print(\"No solution found.\")"
   ]
  }
 ],
 "metadata": {
  "kernelspec": {
   "display_name": "Python 3",
   "language": "python",
   "name": "python3"
  },
  "language_info": {
   "codemirror_mode": {
    "name": "ipython",
    "version": 3
   },
   "file_extension": ".py",
   "mimetype": "text/x-python",
   "name": "python",
   "nbconvert_exporter": "python",
   "pygments_lexer": "ipython3",
   "version": "3.11.5"
  }
 },
 "nbformat": 4,
 "nbformat_minor": 5
}
